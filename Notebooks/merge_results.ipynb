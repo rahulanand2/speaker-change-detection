{
 "cells": [
  {
   "cell_type": "code",
   "execution_count": 1,
   "id": "3d1e3e4b-55cf-4a6c-93d3-922766471fcf",
   "metadata": {
    "tags": []
   },
   "outputs": [],
   "source": [
    "import pandas as pd\n",
    "\n",
    "df1 = pd.read_csv(\"results_mfcc_final.csv\")\n",
    "df2 = pd.read_csv(\"results_segmentation_scd_true.csv\")\n",
    "df3 = pd.read_csv(\"results_scd_true.csv\")\n",
    "\n",
    "merged_df = df1.merge(df2, on=\"File_name\", how=\"inner\").merge(df3, on=\"File_name\", how=\"outer\", suffixes=('_2', '_3'))\n",
    "\n",
    "merged_df.to_csv(\"merged_results_1.csv\", index=False)\n"
   ]
  },
  {
   "cell_type": "code",
   "execution_count": 8,
   "id": "2b15106d-97ef-4dde-a80a-eabe7fb2f4a5",
   "metadata": {
    "tags": []
   },
   "outputs": [],
   "source": [
    "merged_df[\"Precision_MFCC\"] = pd.to_numeric(merged_df.Precision_MFCC, errors='coerce')"
   ]
  },
  {
   "cell_type": "code",
   "execution_count": 2,
   "id": "90e95d5b-bcb8-49b6-995a-3ca2bce73c7c",
   "metadata": {
    "tags": []
   },
   "outputs": [],
   "source": [
    "# First, identify numeric columns (excluding 'File_name')\n",
    "numeric_cols = merged_df.select_dtypes(include=[float, int]).columns\n",
    "\n",
    "# Calculate mean and std for numeric columns only\n",
    "mean_values = merged_df[numeric_cols].mean()\n",
    "std_values = merged_df[numeric_cols].std()\n",
    "\n",
    "# Create a new DataFrame for the mean and standard deviation\n",
    "stats_df = pd.DataFrame({\n",
    "    'Mean': mean_values,\n",
    "    'Std': std_values\n",
    "})\n",
    "\n",
    "print(stats_df)"
   ]
  },
  {
   "cell_type": "code",
   "execution_count": 10,
   "id": "2f0182f8-6af8-45d4-a769-be17902485db",
   "metadata": {
    "tags": []
   },
   "outputs": [
    {
     "data": {
      "text/plain": [
       "Index(['DER_MFCC', 'Precision_MFCC', 'Recall_MFCC', 'F1_MFCC', 'AUROC_MFCC',\n",
       "       'DER_segmentation', 'Precision_segmentation', 'Recall_segmentation',\n",
       "       'F1_segmentation', 'AUROC_segmentation', 'DER_scd', 'Precision_scd',\n",
       "       'Recall_scd', 'F1_scd', 'AUROC_scd'],\n",
       "      dtype='object')"
      ]
     },
     "execution_count": 10,
     "metadata": {},
     "output_type": "execute_result"
    }
   ],
   "source": [
    "numeric_cols"
   ]
  },
  {
   "cell_type": "code",
   "execution_count": 11,
   "id": "01979916-be93-48e3-a0a1-c1fab5619107",
   "metadata": {
    "tags": []
   },
   "outputs": [
    {
     "data": {
      "text/html": [
       "<div>\n",
       "<style scoped>\n",
       "    .dataframe tbody tr th:only-of-type {\n",
       "        vertical-align: middle;\n",
       "    }\n",
       "\n",
       "    .dataframe tbody tr th {\n",
       "        vertical-align: top;\n",
       "    }\n",
       "\n",
       "    .dataframe thead th {\n",
       "        text-align: right;\n",
       "    }\n",
       "</style>\n",
       "<table border=\"1\" class=\"dataframe\">\n",
       "  <thead>\n",
       "    <tr style=\"text-align: right;\">\n",
       "      <th></th>\n",
       "      <th>File_name</th>\n",
       "      <th>DER_scd</th>\n",
       "      <th>Precision_scd</th>\n",
       "      <th>Recall_scd</th>\n",
       "      <th>F1_scd</th>\n",
       "      <th>AUROC_scd</th>\n",
       "    </tr>\n",
       "  </thead>\n",
       "  <tbody>\n",
       "    <tr>\n",
       "      <th>0</th>\n",
       "      <td>EN2001d.Mix-Headset</td>\n",
       "      <td>0.631688</td>\n",
       "      <td>0.171032</td>\n",
       "      <td>0.058870</td>\n",
       "      <td>0.087591</td>\n",
       "      <td>0.507348</td>\n",
       "    </tr>\n",
       "    <tr>\n",
       "      <th>1</th>\n",
       "      <td>TS3012c.Mix-Headset</td>\n",
       "      <td>0.997848</td>\n",
       "      <td>0.211864</td>\n",
       "      <td>0.043212</td>\n",
       "      <td>0.071783</td>\n",
       "      <td>0.498105</td>\n",
       "    </tr>\n",
       "    <tr>\n",
       "      <th>2</th>\n",
       "      <td>IS1005b.Mix-Headset</td>\n",
       "      <td>0.513099</td>\n",
       "      <td>0.057011</td>\n",
       "      <td>0.043658</td>\n",
       "      <td>0.049449</td>\n",
       "      <td>0.498677</td>\n",
       "    </tr>\n",
       "    <tr>\n",
       "      <th>3</th>\n",
       "      <td>TS3005b.Mix-Headset</td>\n",
       "      <td>0.589127</td>\n",
       "      <td>0.096302</td>\n",
       "      <td>0.048657</td>\n",
       "      <td>0.064650</td>\n",
       "      <td>0.501383</td>\n",
       "    </tr>\n",
       "    <tr>\n",
       "      <th>4</th>\n",
       "      <td>ES2006c.Mix-Headset</td>\n",
       "      <td>0.656998</td>\n",
       "      <td>0.130971</td>\n",
       "      <td>0.050341</td>\n",
       "      <td>0.072727</td>\n",
       "      <td>0.502384</td>\n",
       "    </tr>\n",
       "  </tbody>\n",
       "</table>\n",
       "</div>"
      ],
      "text/plain": [
       "             File_name   DER_scd  Precision_scd  Recall_scd    F1_scd  \\\n",
       "0  EN2001d.Mix-Headset  0.631688       0.171032    0.058870  0.087591   \n",
       "1  TS3012c.Mix-Headset  0.997848       0.211864    0.043212  0.071783   \n",
       "2  IS1005b.Mix-Headset  0.513099       0.057011    0.043658  0.049449   \n",
       "3  TS3005b.Mix-Headset  0.589127       0.096302    0.048657  0.064650   \n",
       "4  ES2006c.Mix-Headset  0.656998       0.130971    0.050341  0.072727   \n",
       "\n",
       "   AUROC_scd  \n",
       "0   0.507348  \n",
       "1   0.498105  \n",
       "2   0.498677  \n",
       "3   0.501383  \n",
       "4   0.502384  "
      ]
     },
     "execution_count": 11,
     "metadata": {},
     "output_type": "execute_result"
    }
   ],
   "source": [
    "df3.head()"
   ]
  },
  {
   "cell_type": "code",
   "execution_count": 4,
   "id": "796e78b7-fc1c-47fc-8c24-c1bc2617300a",
   "metadata": {
    "tags": []
   },
   "outputs": [
    {
     "name": "stdout",
     "output_type": "stream",
     "text": [
      "DER_scd          0.787821\n",
      "Precision_scd    0.132329\n",
      "Recall_scd       0.044997\n",
      "F1_scd           0.065514\n",
      "AUROC_scd        0.499420\n",
      "dtype: float64\n"
     ]
    }
   ],
   "source": [
    "numeric_cols_scd = df3.select_dtypes(include=[float, int]).columns\n",
    "\n",
    "# Calculate mean and std for numeric columns only\n",
    "# mean_values = merged_df[numeric_cols].mean()\n",
    "# std_values = merged_df[numeric_cols].std()\n",
    "\n",
    "means_scd = df3[numeric_cols_scd].mean()\n",
    "std_devs_scd = df3[numeric_cols_scd].std()\n",
    "\n",
    "print(\"Means SCD:\")\n",
    "print(means_scd)\n",
    "\n",
    "print(\"\\nStandard Deviations SCD:\")\n",
    "print(std_devs_scd)"
   ]
  },
  {
   "cell_type": "code",
   "execution_count": 5,
   "id": "761691a3-4aa5-4a6b-8c6e-5485d677b014",
   "metadata": {
    "tags": []
   },
   "outputs": [],
   "source": [
    "numeric_cols_segmentation = df2.select_dtypes(include=[float, int]).columns\n",
    "\n",
    "# Calculate mean and std for numeric columns only\n",
    "# mean_values = merged_df[numeric_cols].mean()\n",
    "# std_values = merged_df[numeric_cols].std()\n",
    "\n",
    "means_segmentation = df2[numeric_cols_segmentation].mean()\n",
    "std_devs_segmentation= df2[numeric_cols_segmentation].std()\n",
    "\n",
    "print(\"Means Segmentation:\")\n",
    "print(means_segmentation)\n",
    "\n",
    "print(\"\\nStandard Deviations Segmenation:\")\n",
    "print(std_devs_segmentation)"
   ]
  },
  {
   "cell_type": "code",
   "execution_count": 6,
   "id": "c50bdaee-c195-478f-8643-4c54d08db23a",
   "metadata": {
    "tags": []
   },
   "outputs": [],
   "source": [
    "df1[\"Precision_MFCC\"] = pd.to_numeric(df1.Precision_MFCC, errors='coerce')\n",
    "\n",
    "\n",
    "numeric_cols_mfcc = df1.select_dtypes(include=[float, int]).columns\n",
    "\n",
    "# Calculate mean and std for numeric columns only\n",
    "# mean_values = merged_df[numeric_cols].mean()\n",
    "# std_values = merged_df[numeric_cols].std()\n",
    "\n",
    "means_mfcc = df1[numeric_cols_mfcc ].mean()\n",
    "std_devs_mfcc = df1[numeric_cols_mfcc ].std()\n",
    "\n",
    "print(\"Means Segmentation:\")\n",
    "print(means_mfcc)\n",
    "\n",
    "print(\"\\nStandard Deviations Segmenation:\")\n",
    "print(std_devs_mfcc)"
   ]
  },
  {
   "cell_type": "code",
   "execution_count": 22,
   "id": "990b53ea-ee2d-449a-a400-13034e4be820",
   "metadata": {
    "tags": []
   },
   "outputs": [],
   "source": [
    "pre_df = pd.read_csv('results_pretrained_scd.csv')"
   ]
  },
  {
   "cell_type": "code",
   "execution_count": 23,
   "id": "9d6efc10-d123-4c5b-9a6e-7286d1948918",
   "metadata": {
    "tags": []
   },
   "outputs": [
    {
     "data": {
      "text/html": [
       "<div>\n",
       "<style scoped>\n",
       "    .dataframe tbody tr th:only-of-type {\n",
       "        vertical-align: middle;\n",
       "    }\n",
       "\n",
       "    .dataframe tbody tr th {\n",
       "        vertical-align: top;\n",
       "    }\n",
       "\n",
       "    .dataframe thead th {\n",
       "        text-align: right;\n",
       "    }\n",
       "</style>\n",
       "<table border=\"1\" class=\"dataframe\">\n",
       "  <thead>\n",
       "    <tr style=\"text-align: right;\">\n",
       "      <th></th>\n",
       "      <th>File_name</th>\n",
       "      <th>DER</th>\n",
       "      <th>AUROC</th>\n",
       "    </tr>\n",
       "  </thead>\n",
       "  <tbody>\n",
       "    <tr>\n",
       "      <th>0</th>\n",
       "      <td>IS1000b</td>\n",
       "      <td>0.056858</td>\n",
       "      <td>0.499998</td>\n",
       "    </tr>\n",
       "    <tr>\n",
       "      <th>1</th>\n",
       "      <td>IS1000b</td>\n",
       "      <td>0.056858</td>\n",
       "      <td>0.499998</td>\n",
       "    </tr>\n",
       "    <tr>\n",
       "      <th>2</th>\n",
       "      <td>IS1000d</td>\n",
       "      <td>0.163310</td>\n",
       "      <td>0.499996</td>\n",
       "    </tr>\n",
       "    <tr>\n",
       "      <th>3</th>\n",
       "      <td>IS1000a</td>\n",
       "      <td>0.088003</td>\n",
       "      <td>0.499998</td>\n",
       "    </tr>\n",
       "    <tr>\n",
       "      <th>4</th>\n",
       "      <td>IS1001a</td>\n",
       "      <td>0.122792</td>\n",
       "      <td>0.499997</td>\n",
       "    </tr>\n",
       "  </tbody>\n",
       "</table>\n",
       "</div>"
      ],
      "text/plain": [
       "  File_name       DER     AUROC\n",
       "0   IS1000b  0.056858  0.499998\n",
       "1   IS1000b  0.056858  0.499998\n",
       "2   IS1000d  0.163310  0.499996\n",
       "3   IS1000a  0.088003  0.499998\n",
       "4   IS1001a  0.122792  0.499997"
      ]
     },
     "execution_count": 23,
     "metadata": {},
     "output_type": "execute_result"
    }
   ],
   "source": [
    "pre_df.head()"
   ]
  },
  {
   "cell_type": "code",
   "execution_count": 9,
   "id": "0b7223de-33ef-48eb-a3c7-8a4d8a55ab14",
   "metadata": {
    "tags": []
   },
   "outputs": [],
   "source": [
    "numeric_cols_pre = pre_df.select_dtypes(include=[float, int]).columns\n",
    "\n",
    "# Calculate mean and std for numeric columns only\n",
    "mean_values = merged_df[numeric_cols].mean()\n",
    "std_values = merged_df[numeric_cols].std()\n",
    "\n",
    "means_pre = pre_df[numeric_cols_pre ].mean()\n",
    "std_devs_pre = pre_df[numeric_cols_pre ].std()\n",
    "\n",
    "print(\"Means Segmentation:\")\n",
    "print(means_pre)\n",
    "\n",
    "print(\"\\nStandard Deviations Segmenation:\")\n",
    "print(std_devs_pre)"
   ]
  },
  {
   "cell_type": "code",
   "execution_count": 1,
   "id": "48b11ea0-ea60-44f1-a9e3-8fae361ab18b",
   "metadata": {},
   "outputs": [],
   "source": [
    "import pandas as pd"
   ]
  },
  {
   "cell_type": "code",
   "execution_count": 2,
   "id": "ff167097-dfeb-4842-bc23-e6da7700c3e4",
   "metadata": {
    "tags": []
   },
   "outputs": [],
   "source": [
    "# df_merged = pd.read_csv('merged_results.csv')\n",
    "df_pretrained = pd.read_csv('results_pretrained_scd.csv')"
   ]
  },
  {
   "cell_type": "code",
   "execution_count": 3,
   "id": "1b67a8e1-4484-4216-9ade-3e84ec64ca80",
   "metadata": {
    "tags": []
   },
   "outputs": [],
   "source": [
    "df_pretrained = df_pretrained.drop_duplicates(subset='File_name', keep='first')"
   ]
  },
  {
   "cell_type": "code",
   "execution_count": 4,
   "id": "40bf34bc-10b3-494f-b6a3-c98f6c2c4dce",
   "metadata": {
    "tags": []
   },
   "outputs": [],
   "source": [
    "df_pretrained['File_name'] = df_pretrained['File_name'] + '.Mix-Headset'"
   ]
  },
  {
   "cell_type": "code",
   "execution_count": 5,
   "id": "0d038638-0ddf-485f-9188-c92c50a4d548",
   "metadata": {
    "tags": []
   },
   "outputs": [],
   "source": [
    "result = pd.merge(merged_df, df_pretrained, on='File_name', how='outer')"
   ]
  },
  {
   "cell_type": "code",
   "execution_count": 6,
   "id": "72baa752-7f8e-41ae-a82c-a8f1b7e2ed95",
   "metadata": {
    "tags": []
   },
   "outputs": [],
   "source": [
    "result.fillna('-', inplace=True)"
   ]
  },
  {
   "cell_type": "code",
   "execution_count": 7,
   "id": "78c107ea-6ac9-4394-8a3c-3187c1bbc160",
   "metadata": {
    "tags": []
   },
   "outputs": [],
   "source": [
    "result.to_csv('implemented_model_results.csv')"
   ]
  },
  {
   "cell_type": "code",
   "execution_count": null,
   "id": "1b2e96d3-bac9-46d0-bec3-5df47c6e5c8c",
   "metadata": {},
   "outputs": [],
   "source": []
  }
 ],
 "metadata": {
  "kernelspec": {
   "display_name": "Python 3 (ipykernel)",
   "language": "python",
   "name": "python3"
  },
  "language_info": {
   "codemirror_mode": {
    "name": "ipython",
    "version": 3
   },
   "file_extension": ".py",
   "mimetype": "text/x-python",
   "name": "python",
   "nbconvert_exporter": "python",
   "pygments_lexer": "ipython3",
   "version": "3.8.10"
  }
 },
 "nbformat": 4,
 "nbformat_minor": 5
}
